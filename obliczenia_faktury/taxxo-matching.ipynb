{
 "cells": [
  {
   "cell_type": "code",
   "execution_count": 1,
   "id": "c7b186e6-47cb-42f4-b887-1105fb033619",
   "metadata": {
    "execution": {
     "iopub.execute_input": "2024-10-06T16:22:35.579790Z",
     "iopub.status.busy": "2024-10-06T16:22:35.579232Z",
     "iopub.status.idle": "2024-10-06T16:22:39.050022Z",
     "shell.execute_reply": "2024-10-06T16:22:39.046466Z",
     "shell.execute_reply.started": "2024-10-06T16:22:35.579707Z"
    }
   },
   "outputs": [
    {
     "name": "stdout",
     "output_type": "stream",
     "text": [
      "Requirement already satisfied: fuzzywuzzy in /opt/conda/lib/python3.11/site-packages (0.18.0)\n",
      "Requirement already satisfied: python-Levenshtein in /opt/conda/lib/python3.11/site-packages (0.26.0)\n",
      "Requirement already satisfied: Levenshtein==0.26.0 in /opt/conda/lib/python3.11/site-packages (from python-Levenshtein) (0.26.0)\n",
      "Requirement already satisfied: rapidfuzz<4.0.0,>=3.9.0 in /opt/conda/lib/python3.11/site-packages (from Levenshtein==0.26.0->python-Levenshtein) (3.10.0)\n"
     ]
    }
   ],
   "source": [
    "! pip install fuzzywuzzy\n",
    "! pip install python-Levenshtein"
   ]
  },
  {
   "cell_type": "code",
   "execution_count": 2,
   "id": "f0cc8d4d-2d96-40f8-a4fa-ed29a90c41e3",
   "metadata": {
    "execution": {
     "iopub.execute_input": "2024-10-06T16:22:39.054268Z",
     "iopub.status.busy": "2024-10-06T16:22:39.053379Z",
     "iopub.status.idle": "2024-10-06T16:22:39.165935Z",
     "shell.execute_reply": "2024-10-06T16:22:39.164553Z",
     "shell.execute_reply.started": "2024-10-06T16:22:39.054209Z"
    }
   },
   "outputs": [],
   "source": [
    "import polars as pl\n",
    "from polars import col, when, lit\n",
    "from datetime import date, datetime, timedelta\n",
    "from fuzzywuzzy import fuzz"
   ]
  },
  {
   "cell_type": "code",
   "execution_count": 3,
   "id": "9c19cfc1-3431-48f9-8e98-8a128e4103de",
   "metadata": {
    "execution": {
     "iopub.execute_input": "2024-10-06T16:22:39.167363Z",
     "iopub.status.busy": "2024-10-06T16:22:39.167129Z",
     "iopub.status.idle": "2024-10-06T16:22:39.177458Z",
     "shell.execute_reply": "2024-10-06T16:22:39.176527Z",
     "shell.execute_reply.started": "2024-10-06T16:22:39.167341Z"
    }
   },
   "outputs": [],
   "source": [
    "from colorama import Fore, Back, Style\n",
    "from colorama import just_fix_windows_console\n",
    "just_fix_windows_console()\n",
    "\n",
    "def colored_string(text, color=\"normal\", bg_color=\"normal\", style=\"normal\") -> str:\n",
    "    \"\"\"\n",
    "    returns colored text using Colorama\n",
    "\n",
    "    Parameters:\n",
    "        text (str): The text to be printed.\n",
    "        color (str): The text color. Default is white.\n",
    "        bg_color (str): The background color. Default is black.\n",
    "        style (str): The text style. Default is normal.\n",
    "\n",
    "    Returns:\n",
    "        None\n",
    "    \"\"\"\n",
    "\n",
    "    # if bg_color or color is None, replace with normal\n",
    "    color = color or 'normal'\n",
    "    bg_color = bg_color or 'normal'\n",
    "    style = style or 'normal'\n",
    "    \n",
    "    # Map string inputs to Colorama constants\n",
    "    color_mapping = {\n",
    "        \"black\": Fore.BLACK,\n",
    "        \"red\": Fore.RED,\n",
    "        \"green\": Fore.GREEN,\n",
    "        \"yellow\": Fore.YELLOW,\n",
    "        \"blue\": Fore.BLUE,\n",
    "        \"magenta\": Fore.MAGENTA,\n",
    "        \"cyan\": Fore.CYAN,\n",
    "        \"white\": Fore.WHITE,\n",
    "        \"lightgreen\": Fore.LIGHTGREEN_EX,\n",
    "        \"lightred\": Fore.LIGHTRED_EX,\n",
    "        \"lightblue\": Fore.LIGHTBLUE_EX,\n",
    "        \"normal\": Fore.RESET,\n",
    "    }\n",
    "    bg_color_mapping = {\n",
    "        \"black\": Back.BLACK,\n",
    "        \"red\": Back.RED,\n",
    "        \"green\": Back.GREEN,\n",
    "        \"yellow\": Back.YELLOW,\n",
    "        \"blue\": Back.BLUE,\n",
    "        \"magenta\": Back.MAGENTA,\n",
    "        \"cyan\": Back.CYAN,\n",
    "        \"white\": Back.WHITE,\n",
    "        \"normal\": Back.RESET,\n",
    "    }\n",
    "    style_mapping = {\n",
    "        \"normal\": Style.NORMAL,\n",
    "        \"bright\": Style.BRIGHT,\n",
    "        \"dim\": Style.DIM,\n",
    "    }\n",
    "\n",
    "    # Get the Colorama constants for color, background color, and style\n",
    "    selected_color = color_mapping.get(color.lower(), Fore.RESET)\n",
    "    selected_bg_color = bg_color_mapping.get(bg_color.lower(), Back.RESET)\n",
    "    selected_style = style_mapping.get(style.lower(), Style.NORMAL)\n",
    "\n",
    "    # Construct the colored text\n",
    "    if color == \"normal\" and bg_color == \"normal\":\n",
    "        return f\"{text}\"\n",
    "    else:\n",
    "        return f\"{selected_style}{selected_bg_color}{selected_color}{text}{Style.RESET_ALL}\"\n",
    "\n",
    "\n",
    "def colored_print(text, color=\"normal\", bg_color=\"normal\", style=\"normal\"):\n",
    "    \"\"\"\n",
    "    Wrapper function for print that prints colored text using Colorama.\n",
    "\n",
    "    Parameters:\n",
    "        text (str): The text to be printed.\n",
    "        color (str): The text color. Default is white.\n",
    "        bg_color (str): The background color. Default is black.\n",
    "        style (str): The text style. Default is normal.\n",
    "\n",
    "    Returns:\n",
    "        None\n",
    "    \"\"\"\n",
    "    if color == \"normal\" and bg_color == \"normal\":\n",
    "        print(text)\n",
    "    else:\n",
    "        print(colored_string(text, color, bg_color, style))"
   ]
  },
  {
   "cell_type": "code",
   "execution_count": 4,
   "id": "20cd41c0-c927-42cf-b3fc-45e96f0a6836",
   "metadata": {
    "execution": {
     "iopub.execute_input": "2024-10-06T16:22:39.178777Z",
     "iopub.status.busy": "2024-10-06T16:22:39.178513Z",
     "iopub.status.idle": "2024-10-06T16:22:39.512356Z",
     "shell.execute_reply": "2024-10-06T16:22:39.511295Z",
     "shell.execute_reply.started": "2024-10-06T16:22:39.178753Z"
    }
   },
   "outputs": [],
   "source": [
    "df_alior = pl.read_excel('20241005_Alior.xlsx')\n",
    "df_taxxo = pl.read_excel('20241005_TAXXO.xlsx')"
   ]
  },
  {
   "cell_type": "code",
   "execution_count": 5,
   "id": "acd89abb-0294-45d4-851a-079fb5a9d575",
   "metadata": {
    "execution": {
     "iopub.execute_input": "2024-10-06T16:22:39.513587Z",
     "iopub.status.busy": "2024-10-06T16:22:39.513322Z",
     "iopub.status.idle": "2024-10-06T16:22:39.519082Z",
     "shell.execute_reply": "2024-10-06T16:22:39.518270Z",
     "shell.execute_reply.started": "2024-10-06T16:22:39.513566Z"
    }
   },
   "outputs": [],
   "source": [
    "# condition the columns\n",
    "df_taxxo = df_taxxo.with_columns(\n",
    "    indeks_taxxo=col('Lp'),\n",
    "    data_wystawienia=col('data_wystawienia').dt.date(),\n",
    "    data_zaplaty=col('data_zaplaty').dt.date(),\n",
    ")\n",
    "\n",
    "df_alior = df_alior.with_columns(\n",
    "    indeks_alior=col('Lp'),\n",
    "    data_transakcji=col('data_transakcji').str.to_date()\n",
    ")\n"
   ]
  },
  {
   "cell_type": "code",
   "execution_count": 6,
   "id": "00fd1b99-6bef-4fe0-96ab-1cec4e0d9669",
   "metadata": {
    "execution": {
     "iopub.execute_input": "2024-10-06T16:22:39.522681Z",
     "iopub.status.busy": "2024-10-06T16:22:39.522016Z",
     "iopub.status.idle": "2024-10-06T16:22:39.536304Z",
     "shell.execute_reply": "2024-10-06T16:22:39.535198Z",
     "shell.execute_reply.started": "2024-10-06T16:22:39.522510Z"
    }
   },
   "outputs": [
    {
     "name": "stdout",
     "output_type": "stream",
     "text": [
      "\u001b[22m\u001b[49m\u001b[39mhello\u001b[0m\n"
     ]
    }
   ],
   "source": [
    "colored_print('hello', color='orange')"
   ]
  },
  {
   "cell_type": "code",
   "execution_count": 7,
   "id": "9ebe74b4-2380-4dda-bb87-26faea33a444",
   "metadata": {
    "execution": {
     "iopub.execute_input": "2024-10-06T16:22:39.537675Z",
     "iopub.status.busy": "2024-10-06T16:22:39.537402Z",
     "iopub.status.idle": "2024-10-06T16:22:39.562087Z",
     "shell.execute_reply": "2024-10-06T16:22:39.560824Z",
     "shell.execute_reply.started": "2024-10-06T16:22:39.537651Z"
    }
   },
   "outputs": [
    {
     "data": {
      "text/html": [
       "<div><style>\n",
       ".dataframe > thead > tr,\n",
       ".dataframe > tbody > tr {\n",
       "  text-align: right;\n",
       "  white-space: pre-wrap;\n",
       "}\n",
       "</style>\n",
       "<small>shape: (379, 9)</small><table border=\"1\" class=\"dataframe\"><thead><tr><th>Lp</th><th>opis_taxxo</th><th>data_wystawienia</th><th>Kontrahent</th><th>kwota</th><th>Tagi</th><th>Nr rejestracyjny</th><th>data_zaplaty</th><th>indeks_taxxo</th></tr><tr><td>i64</td><td>str</td><td>date</td><td>str</td><td>f64</td><td>str</td><td>str</td><td>date</td><td>i64</td></tr></thead><tbody><tr><td>1</td><td>&quot;FV-2024/01/000095&quot;</td><td>2024-01-01</td><td>&quot;LIVEKID SPÓŁKA Z OGRANICZONĄ O…</td><td>41.57</td><td>&quot;OGÓLNE&quot;</td><td>&quot;KONTO_DOTACJA&quot;</td><td>2024-01-03</td><td>1</td></tr><tr><td>2</td><td>&quot;01/2311/00010213 z dnia 04.12.…</td><td>2024-01-01</td><td>&quot;PGE OBRÓT SPÓŁKA AKCYJNA&quot;</td><td>214.89</td><td>&quot;NIERUCHOMOŚĆ&quot;</td><td>&quot;KONTO_DOTACJA&quot;</td><td>2024-01-16</td><td>2</td></tr><tr><td>3</td><td>&quot;19/01/2024&quot;</td><td>2024-01-02</td><td>&quot;GASTROPULS.PL SPÓŁKA Z OGRANIC…</td><td>342.84</td><td>&quot;OGÓLNE&quot;</td><td>&quot;KONTO_DOTACJA&quot;</td><td>2024-01-18</td><td>3</td></tr><tr><td>4</td><td>&quot;3571448/37/2024/F&quot;</td><td>2024-01-02</td><td>&quot;PGNIG OBRÓT DETALICZNY SPÓŁKA …</td><td>1915.71</td><td>&quot;NIERUCHOMOŚĆ&quot;</td><td>&quot;KONTO_DOTACJA&quot;</td><td>2024-01-16</td><td>4</td></tr><tr><td>5</td><td>&quot;2/01/2024&quot;</td><td>2024-01-02</td><td>&quot;ANDIX Joanna Mirecka&quot;</td><td>246.0</td><td>&quot;OGÓLNE&quot;</td><td>&quot;KONTO_DOTACJA&quot;</td><td>2024-01-25</td><td>5</td></tr><tr><td>&hellip;</td><td>&hellip;</td><td>&hellip;</td><td>&hellip;</td><td>&hellip;</td><td>&hellip;</td><td>&hellip;</td><td>&hellip;</td><td>&hellip;</td></tr><tr><td>375</td><td>&quot;2/10/2024&quot;</td><td>2024-10-01</td><td>&quot;ANDIX Joanna Mirecka&quot;</td><td>246.0</td><td>&quot;OGÓLNE&quot;</td><td>&quot;KONTO_GLOWNE&quot;</td><td>2024-10-04</td><td>375</td></tr><tr><td>376</td><td>&quot;01/10/2024&quot;</td><td>2024-10-01</td><td>&quot;STANISŁAWA JELEŃ ACTIV RENT&quot;</td><td>14183.13</td><td>&quot;NIERUCHOMOŚĆ&quot;</td><td>&quot;KONTO_GLOWNE&quot;</td><td>2024-10-03</td><td>376</td></tr><tr><td>377</td><td>&quot;050/BOT/10/2024&quot;</td><td>2024-10-01</td><td>&quot;PRZEDSIĘBIORSTWO OSZCZĘDZANIA …</td><td>36.9</td><td>&quot;NIERUCHOMOŚĆ&quot;</td><td>&quot;KONTO_GLOWNE&quot;</td><td>2024-10-04</td><td>377</td></tr><tr><td>378</td><td>&quot;FV-2024/10/000089&quot;</td><td>2024-10-01</td><td>&quot;LIVEKID SPÓŁKA Z OGRANICZONĄ O…</td><td>207.87</td><td>&quot;OGÓLNE&quot;</td><td>&quot;KONTO_GLOWNE&quot;</td><td>2024-10-03</td><td>378</td></tr><tr><td>379</td><td>&quot;FV/000245/10/2024/TX&quot;</td><td>2024-10-03</td><td>&quot;COLUMB TECHNOLOGIES SPÓŁKA AKC…</td><td>60.27</td><td>&quot;OGÓLNE&quot;</td><td>&quot;KONTO_GLOWNE&quot;</td><td>2024-10-03</td><td>379</td></tr></tbody></table></div>"
      ],
      "text/plain": [
       "shape: (379, 9)\n",
       "┌─────┬────────────┬────────────┬────────────┬───┬────────────┬────────────┬───────────┬───────────┐\n",
       "│ Lp  ┆ opis_taxxo ┆ data_wysta ┆ Kontrahent ┆ … ┆ Tagi       ┆ Nr rejestr ┆ data_zapl ┆ indeks_ta │\n",
       "│ --- ┆ ---        ┆ wienia     ┆ ---        ┆   ┆ ---        ┆ acyjny     ┆ aty       ┆ xxo       │\n",
       "│ i64 ┆ str        ┆ ---        ┆ str        ┆   ┆ str        ┆ ---        ┆ ---       ┆ ---       │\n",
       "│     ┆            ┆ date       ┆            ┆   ┆            ┆ str        ┆ date      ┆ i64       │\n",
       "╞═════╪════════════╪════════════╪════════════╪═══╪════════════╪════════════╪═══════════╪═══════════╡\n",
       "│ 1   ┆ FV-2024/01 ┆ 2024-01-01 ┆ LIVEKID    ┆ … ┆ OGÓLNE     ┆ KONTO_DOTA ┆ 2024-01-0 ┆ 1         │\n",
       "│     ┆ /000095    ┆            ┆ SPÓŁKA Z   ┆   ┆            ┆ CJA        ┆ 3         ┆           │\n",
       "│     ┆            ┆            ┆ OGRANICZON ┆   ┆            ┆            ┆           ┆           │\n",
       "│     ┆            ┆            ┆ Ą O…       ┆   ┆            ┆            ┆           ┆           │\n",
       "│ 2   ┆ 01/2311/00 ┆ 2024-01-01 ┆ PGE OBRÓT  ┆ … ┆ NIERUCHOMO ┆ KONTO_DOTA ┆ 2024-01-1 ┆ 2         │\n",
       "│     ┆ 010213 z   ┆            ┆ SPÓŁKA     ┆   ┆ ŚĆ         ┆ CJA        ┆ 6         ┆           │\n",
       "│     ┆ dnia       ┆            ┆ AKCYJNA    ┆   ┆            ┆            ┆           ┆           │\n",
       "│     ┆ 04.12.…    ┆            ┆            ┆   ┆            ┆            ┆           ┆           │\n",
       "│ 3   ┆ 19/01/2024 ┆ 2024-01-02 ┆ GASTROPULS ┆ … ┆ OGÓLNE     ┆ KONTO_DOTA ┆ 2024-01-1 ┆ 3         │\n",
       "│     ┆            ┆            ┆ .PL SPÓŁKA ┆   ┆            ┆ CJA        ┆ 8         ┆           │\n",
       "│     ┆            ┆            ┆ Z OGRANIC… ┆   ┆            ┆            ┆           ┆           │\n",
       "│ 4   ┆ 3571448/37 ┆ 2024-01-02 ┆ PGNIG      ┆ … ┆ NIERUCHOMO ┆ KONTO_DOTA ┆ 2024-01-1 ┆ 4         │\n",
       "│     ┆ /2024/F    ┆            ┆ OBRÓT      ┆   ┆ ŚĆ         ┆ CJA        ┆ 6         ┆           │\n",
       "│     ┆            ┆            ┆ DETALICZNY ┆   ┆            ┆            ┆           ┆           │\n",
       "│     ┆            ┆            ┆ SPÓŁKA …   ┆   ┆            ┆            ┆           ┆           │\n",
       "│ 5   ┆ 2/01/2024  ┆ 2024-01-02 ┆ ANDIX      ┆ … ┆ OGÓLNE     ┆ KONTO_DOTA ┆ 2024-01-2 ┆ 5         │\n",
       "│     ┆            ┆            ┆ Joanna     ┆   ┆            ┆ CJA        ┆ 5         ┆           │\n",
       "│     ┆            ┆            ┆ Mirecka    ┆   ┆            ┆            ┆           ┆           │\n",
       "│ …   ┆ …          ┆ …          ┆ …          ┆ … ┆ …          ┆ …          ┆ …         ┆ …         │\n",
       "│ 375 ┆ 2/10/2024  ┆ 2024-10-01 ┆ ANDIX      ┆ … ┆ OGÓLNE     ┆ KONTO_GLOW ┆ 2024-10-0 ┆ 375       │\n",
       "│     ┆            ┆            ┆ Joanna     ┆   ┆            ┆ NE         ┆ 4         ┆           │\n",
       "│     ┆            ┆            ┆ Mirecka    ┆   ┆            ┆            ┆           ┆           │\n",
       "│ 376 ┆ 01/10/2024 ┆ 2024-10-01 ┆ STANISŁAWA ┆ … ┆ NIERUCHOMO ┆ KONTO_GLOW ┆ 2024-10-0 ┆ 376       │\n",
       "│     ┆            ┆            ┆ JELEŃ      ┆   ┆ ŚĆ         ┆ NE         ┆ 3         ┆           │\n",
       "│     ┆            ┆            ┆ ACTIV RENT ┆   ┆            ┆            ┆           ┆           │\n",
       "│ 377 ┆ 050/BOT/10 ┆ 2024-10-01 ┆ PRZEDSIĘBI ┆ … ┆ NIERUCHOMO ┆ KONTO_GLOW ┆ 2024-10-0 ┆ 377       │\n",
       "│     ┆ /2024      ┆            ┆ ORSTWO OSZ ┆   ┆ ŚĆ         ┆ NE         ┆ 4         ┆           │\n",
       "│     ┆            ┆            ┆ CZĘDZANIA  ┆   ┆            ┆            ┆           ┆           │\n",
       "│     ┆            ┆            ┆ …          ┆   ┆            ┆            ┆           ┆           │\n",
       "│ 378 ┆ FV-2024/10 ┆ 2024-10-01 ┆ LIVEKID    ┆ … ┆ OGÓLNE     ┆ KONTO_GLOW ┆ 2024-10-0 ┆ 378       │\n",
       "│     ┆ /000089    ┆            ┆ SPÓŁKA Z   ┆   ┆            ┆ NE         ┆ 3         ┆           │\n",
       "│     ┆            ┆            ┆ OGRANICZON ┆   ┆            ┆            ┆           ┆           │\n",
       "│     ┆            ┆            ┆ Ą O…       ┆   ┆            ┆            ┆           ┆           │\n",
       "│ 379 ┆ FV/000245/ ┆ 2024-10-03 ┆ COLUMB TEC ┆ … ┆ OGÓLNE     ┆ KONTO_GLOW ┆ 2024-10-0 ┆ 379       │\n",
       "│     ┆ 10/2024/TX ┆            ┆ HNOLOGIES  ┆   ┆            ┆ NE         ┆ 3         ┆           │\n",
       "│     ┆            ┆            ┆ SPÓŁKA     ┆   ┆            ┆            ┆           ┆           │\n",
       "│     ┆            ┆            ┆ AKC…       ┆   ┆            ┆            ┆           ┆           │\n",
       "└─────┴────────────┴────────────┴────────────┴───┴────────────┴────────────┴───────────┴───────────┘"
      ]
     },
     "execution_count": 7,
     "metadata": {},
     "output_type": "execute_result"
    }
   ],
   "source": [
    "df_taxxo"
   ]
  },
  {
   "cell_type": "code",
   "execution_count": 8,
   "id": "38dde7b1-6181-4124-9c1b-0ac1037dd807",
   "metadata": {
    "execution": {
     "iopub.execute_input": "2024-10-06T16:22:39.564387Z",
     "iopub.status.busy": "2024-10-06T16:22:39.563986Z",
     "iopub.status.idle": "2024-10-06T16:22:39.575985Z",
     "shell.execute_reply": "2024-10-06T16:22:39.574933Z",
     "shell.execute_reply.started": "2024-10-06T16:22:39.564340Z"
    }
   },
   "outputs": [
    {
     "data": {
      "text/html": [
       "<div><style>\n",
       ".dataframe > thead > tr,\n",
       ".dataframe > tbody > tr {\n",
       "  text-align: right;\n",
       "  white-space: pre-wrap;\n",
       "}\n",
       "</style>\n",
       "<small>shape: (593, 7)</small><table border=\"1\" class=\"dataframe\"><thead><tr><th>Lp</th><th>data_transakcji</th><th>nadawca</th><th>odbiorca</th><th>opis</th><th>kwota</th><th>indeks_alior</th></tr><tr><td>i64</td><td>date</td><td>str</td><td>str</td><td>str</td><td>f64</td><td>i64</td></tr></thead><tbody><tr><td>1</td><td>2024-10-04</td><td>&quot;SŁAWOMIR JELEŃ SMOCZA DOLINA&quot;</td><td>&quot;PRZEDSIĘBIORSTWO OSZCZĘDZANIA …</td><td>&quot;050/BOT/10/2024&quot;</td><td>-36.9</td><td>1</td></tr><tr><td>2</td><td>2024-10-04</td><td>&quot;SŁAWOMIR JELEŃ SMOCZA DOLINA&quot;</td><td>&quot;KANCELARIA RACHUNKOWO-PODATKOW…</td><td>&quot;F/063/09/2024&quot;</td><td>-457.56</td><td>2</td></tr><tr><td>3</td><td>2024-10-04</td><td>&quot;SŁAWOMIR JELEŃ SMOCZA DOLINA&quot;</td><td>&quot;&quot;</td><td>&quot;POBRANIE OPŁATY/PROWIZJI - Rea…</td><td>-1.0</td><td>3</td></tr><tr><td>4</td><td>2024-10-04</td><td>&quot;SŁAWOMIR JELEŃ SMOCZA DOLINA&quot;</td><td>&quot;ANDIX Joanna Mirecka&quot;</td><td>&quot;Zlecenie stale parking Fiszera&quot;</td><td>-246.0</td><td>4</td></tr><tr><td>5</td><td>2024-10-03</td><td>&quot;LIVEKID SP. Z O.O.UL.ENERGETYC…</td><td>&quot;SMOCZA DOLINA Sławomir Jeleń&quot;</td><td>&quot;ZWROT OD LIVEKID&quot;</td><td>489.33</td><td>5</td></tr><tr><td>&hellip;</td><td>&hellip;</td><td>&hellip;</td><td>&hellip;</td><td>&hellip;</td><td>&hellip;</td><td>&hellip;</td></tr><tr><td>589</td><td>2024-01-10</td><td>&quot;SŁAWOMIR JELEŃ SMOCZA DOLINA&quot;</td><td>&quot;SŁAWOMIR JELEŃ SMOCZA DOLINA&quot;</td><td>&quot;Przelew własny&quot;</td><td>2050.0</td><td>589</td></tr><tr><td>590</td><td>2024-01-05</td><td>&quot;SŁAWOMIR JELEŃ SMOCZA DOLINA&quot;</td><td>&quot;SŁAWOMIR JELEŃ SMOCZA DOLINA&quot;</td><td>&quot;Pożyczka 2024&quot;</td><td>-1000.0</td><td>590</td></tr><tr><td>591</td><td>2024-01-05</td><td>&quot;SŁAWOMIR JELEŃ SMOCZA DOLINA&quot;</td><td>&quot;SŁAWOMIR JELEŃ SMOCZA DOLINA&quot;</td><td>&quot;Przelew własny&quot;</td><td>2970.0</td><td>591</td></tr><tr><td>592</td><td>2024-01-04</td><td>&quot;SŁAWOMIR JELEŃ SMOCZA DOLINA&quot;</td><td>&quot;SLAWOMIR JELEN&quot;</td><td>&quot;ZWROT&quot;</td><td>-15000.0</td><td>592</td></tr><tr><td>593</td><td>2024-01-04</td><td>&quot;SŁAWOMIR JELEŃ SMOCZA DOLINA&quot;</td><td>&quot;SŁAWOMIR JELEŃ SMOCZA DOLINA&quot;</td><td>&quot;Przelew własny&quot;</td><td>9775.0</td><td>593</td></tr></tbody></table></div>"
      ],
      "text/plain": [
       "shape: (593, 7)\n",
       "┌─────┬────────────────┬────────────────┬────────────────┬───────────────┬──────────┬──────────────┐\n",
       "│ Lp  ┆ data_transakcj ┆ nadawca        ┆ odbiorca       ┆ opis          ┆ kwota    ┆ indeks_alior │\n",
       "│ --- ┆ i              ┆ ---            ┆ ---            ┆ ---           ┆ ---      ┆ ---          │\n",
       "│ i64 ┆ ---            ┆ str            ┆ str            ┆ str           ┆ f64      ┆ i64          │\n",
       "│     ┆ date           ┆                ┆                ┆               ┆          ┆              │\n",
       "╞═════╪════════════════╪════════════════╪════════════════╪═══════════════╪══════════╪══════════════╡\n",
       "│ 1   ┆ 2024-10-04     ┆ SŁAWOMIR JELEŃ ┆ PRZEDSIĘBIORST ┆ 050/BOT/10/20 ┆ -36.9    ┆ 1            │\n",
       "│     ┆                ┆ SMOCZA DOLINA  ┆ WO             ┆ 24            ┆          ┆              │\n",
       "│     ┆                ┆                ┆ OSZCZĘDZANIA … ┆               ┆          ┆              │\n",
       "│ 2   ┆ 2024-10-04     ┆ SŁAWOMIR JELEŃ ┆ KANCELARIA RAC ┆ F/063/09/2024 ┆ -457.56  ┆ 2            │\n",
       "│     ┆                ┆ SMOCZA DOLINA  ┆ HUNKOWO-PODATK ┆               ┆          ┆              │\n",
       "│     ┆                ┆                ┆ OW…            ┆               ┆          ┆              │\n",
       "│ 3   ┆ 2024-10-04     ┆ SŁAWOMIR JELEŃ ┆                ┆ POBRANIE OPŁA ┆ -1.0     ┆ 3            │\n",
       "│     ┆                ┆ SMOCZA DOLINA  ┆                ┆ TY/PROWIZJI - ┆          ┆              │\n",
       "│     ┆                ┆                ┆                ┆ Rea…          ┆          ┆              │\n",
       "│ 4   ┆ 2024-10-04     ┆ SŁAWOMIR JELEŃ ┆ ANDIX Joanna   ┆ Zlecenie      ┆ -246.0   ┆ 4            │\n",
       "│     ┆                ┆ SMOCZA DOLINA  ┆ Mirecka        ┆ stale parking ┆          ┆              │\n",
       "│     ┆                ┆                ┆                ┆ Fiszera       ┆          ┆              │\n",
       "│ 5   ┆ 2024-10-03     ┆ LIVEKID SP. Z  ┆ SMOCZA DOLINA  ┆ ZWROT OD      ┆ 489.33   ┆ 5            │\n",
       "│     ┆                ┆ O.O.UL.ENERGET ┆ Sławomir Jeleń ┆ LIVEKID       ┆          ┆              │\n",
       "│     ┆                ┆ YC…            ┆                ┆               ┆          ┆              │\n",
       "│ …   ┆ …              ┆ …              ┆ …              ┆ …             ┆ …        ┆ …            │\n",
       "│ 589 ┆ 2024-01-10     ┆ SŁAWOMIR JELEŃ ┆ SŁAWOMIR JELEŃ ┆ Przelew       ┆ 2050.0   ┆ 589          │\n",
       "│     ┆                ┆ SMOCZA DOLINA  ┆ SMOCZA DOLINA  ┆ własny        ┆          ┆              │\n",
       "│ 590 ┆ 2024-01-05     ┆ SŁAWOMIR JELEŃ ┆ SŁAWOMIR JELEŃ ┆ Pożyczka 2024 ┆ -1000.0  ┆ 590          │\n",
       "│     ┆                ┆ SMOCZA DOLINA  ┆ SMOCZA DOLINA  ┆               ┆          ┆              │\n",
       "│ 591 ┆ 2024-01-05     ┆ SŁAWOMIR JELEŃ ┆ SŁAWOMIR JELEŃ ┆ Przelew       ┆ 2970.0   ┆ 591          │\n",
       "│     ┆                ┆ SMOCZA DOLINA  ┆ SMOCZA DOLINA  ┆ własny        ┆          ┆              │\n",
       "│ 592 ┆ 2024-01-04     ┆ SŁAWOMIR JELEŃ ┆ SLAWOMIR JELEN ┆ ZWROT         ┆ -15000.0 ┆ 592          │\n",
       "│     ┆                ┆ SMOCZA DOLINA  ┆                ┆               ┆          ┆              │\n",
       "│ 593 ┆ 2024-01-04     ┆ SŁAWOMIR JELEŃ ┆ SŁAWOMIR JELEŃ ┆ Przelew       ┆ 9775.0   ┆ 593          │\n",
       "│     ┆                ┆ SMOCZA DOLINA  ┆ SMOCZA DOLINA  ┆ własny        ┆          ┆              │\n",
       "└─────┴────────────────┴────────────────┴────────────────┴───────────────┴──────────┴──────────────┘"
      ]
     },
     "execution_count": 8,
     "metadata": {},
     "output_type": "execute_result"
    }
   ],
   "source": [
    "df_alior"
   ]
  },
  {
   "cell_type": "code",
   "execution_count": 19,
   "id": "777f3e57-f4e1-4d8c-b602-a4678e28d7f4",
   "metadata": {
    "execution": {
     "iopub.execute_input": "2024-10-06T16:29:59.051739Z",
     "iopub.status.busy": "2024-10-06T16:29:59.051411Z",
     "iopub.status.idle": "2024-10-06T16:29:59.059059Z",
     "shell.execute_reply": "2024-10-06T16:29:59.057040Z",
     "shell.execute_reply.started": "2024-10-06T16:29:59.051714Z"
    }
   },
   "outputs": [],
   "source": [
    "def is_whitelisted(similarity, diff_kwota, diff_days, whitelist_rules, return_rule_id = False):\n",
    "    \"\"\"\n",
    "    Analyze similarity, diff_kwota, and diff_days according to whitelist rules with reject-first policy.\n",
    "    \n",
    "    :param similarity: The similarity value of the object (e.g., similarity of opis).\n",
    "    :param diff_kwota: The difference in kwota between two amounts.\n",
    "    :param diff_days: The difference in days between taxxo_date and alior_date.\n",
    "    :param whitelist_rules: The list of rules to check against.\n",
    "    \n",
    "    :return: True if accepted based on the rules, False if rejected.\n",
    "    \"\"\"\n",
    "    # Iterate over whitelist rules and check if the object's properties match\n",
    "    for i, rule in enumerate(whitelist_rules):\n",
    "        if (similarity >= rule['min_similarity'] and\n",
    "           diff_kwota <= rule['max_diff_kwota'] and \\\n",
    "           diff_days <= rule['max_diff_days']):\n",
    "            # If all conditions match, return True (object is accepted)\n",
    "            if return_rule_id: return True, i\n",
    "            else: return True\n",
    "    \n",
    "    # If no rules matched, reject the object\n",
    "    if return_rule_id: return False, -1\n",
    "    else: return False"
   ]
  },
  {
   "cell_type": "code",
   "execution_count": 23,
   "id": "12a7598a-7c8a-4588-8f2f-27dcbe2ec3c7",
   "metadata": {
    "execution": {
     "iopub.execute_input": "2024-10-06T16:30:48.242435Z",
     "iopub.status.busy": "2024-10-06T16:30:48.241720Z",
     "iopub.status.idle": "2024-10-06T16:30:49.684238Z",
     "shell.execute_reply": "2024-10-06T16:30:49.683009Z",
     "shell.execute_reply.started": "2024-10-06T16:30:48.242380Z"
    }
   },
   "outputs": [
    {
     "name": "stdout",
     "output_type": "stream",
     "text": [
      "[taxxo-11:alior-561] kwoty: 324.6/2024-02-11 ? -324.6/2024-02-11 -> 100%\n",
      "[taxxo-14:alior-570] kwoty: 414.0/2024-02-06 ? -414.0/2024-02-06 -> 100%\n",
      "\u001b[1m\u001b[49m\u001b[33m[taxxo-35:alior-568] kwoty: 548.96/2024-02-08 ? -548.96/2024-02-08 -> 74%\u001b[0m\n",
      "\u001b[2m\u001b[49m\u001b[33m[taxxo-36:alior-547] kwoty: 408.97/2024-02-28 ? -408.97/2024-02-28 -> 62%\u001b[0m\n",
      "[taxxo-40:alior-557] kwoty: 150.0/2024-02-14 ? -150.0/2024-02-14 -> 90%\n",
      "[taxxo-41:alior-567] kwoty: 602.7/2024-02-08 ? -602.7/2024-02-08 -> 100%\n",
      "[taxxo-46:alior-562] kwoty: 457.56/2024-02-11 ? -457.56/2024-02-11 -> 100%\n",
      "[taxxo-52:alior-566] kwoty: 1,190.0/2024-02-08 ? -1,190.0/2024-02-08 -> 100%\n",
      "\u001b[1m\u001b[49m\u001b[33m[taxxo-53:alior-565] kwoty: 2,730.0/2024-02-08 ? -2,730.0/2024-02-08 -> 77%\u001b[0m\n",
      "\u001b[1m\u001b[49m\u001b[33m[taxxo-57:alior-390] kwoty: 14,183.13/2024-04-29 ? -14,183.13/2024-04-29 -> 71%\u001b[0m\n",
      "[taxxo-59:alior-564] kwoty: 261.0/2024-02-10 ? -261.0/2024-02-09 -> 100%\n",
      "\u001b[2m\u001b[49m\u001b[33m[taxxo-63:alior-555] kwoty: 624.84/2024-02-15 ? -624.84/2024-02-15 -> 57%\u001b[0m\n",
      "\u001b[1m\u001b[49m\u001b[33m[taxxo-65:alior-453] kwoty: 269.0/2024-04-04 ? -269.0/2024-04-04 -> 76%\u001b[0m\n",
      "[taxxo-67:alior-527] kwoty: 300.0/2024-02-29 ? -300.0/2024-02-29 -> 100%\n",
      "\u001b[1m\u001b[49m\u001b[33m[taxxo-68:alior-521] kwoty: 630.0/2024-02-29 ? -630.0/2024-02-29 -> 81%\u001b[0m\n",
      "\u001b[1m\u001b[49m\u001b[33m[taxxo-69:alior-522] kwoty: 2,340.0/2024-02-29 ? -2,340.0/2024-02-29 -> 65%\u001b[0m\n",
      "[taxxo-72:alior-547] kwoty: 408.97/2024-02-28 ? -408.97/2024-02-28 -> 100%\n",
      "[taxxo-77:alior-519] kwoty: 457.56/2024-02-29 ? -457.56/2024-02-29 -> 100%\n",
      "\u001b[1m\u001b[49m\u001b[33m[taxxo-81:alior-464] kwoty: 300.0/2024-03-29 ? -300.0/2024-03-29 -> 76%\u001b[0m\n",
      "[taxxo-82:alior-512] kwoty: 980.0/2024-02-29 ? -980.0/2024-02-29 -> 100%\n",
      "[taxxo-83:alior-264] kwoty: 602.7/2024-06-28 ? -602.7/2024-06-28 -> 86%\n",
      "\u001b[1m\u001b[49m\u001b[33m[taxxo-85:alior-513] kwoty: 2,590.0/2024-02-29 ? -2,590.0/2024-02-29 -> 77%\u001b[0m\n",
      "[taxxo-86:alior-515] kwoty: 885.93/2024-02-29 ? -885.93/2024-02-29 -> 100%\n",
      "\u001b[1m\u001b[49m\u001b[33m[taxxo-88:alior-524] kwoty: 883.5/2024-02-29 ? -883.5/2024-02-29 -> 73%\u001b[0m\n",
      "\u001b[2m\u001b[49m\u001b[33m[taxxo-89:alior-526] kwoty: 2,485.0/2024-02-29 ? -2,485.0/2024-02-29 -> 55%\u001b[0m\n",
      "[taxxo-90:alior-163] kwoty: 73.55/2024-08-08 ? -73.55/2024-08-08 -> 90%\n",
      "\u001b[2m\u001b[49m\u001b[33m[taxxo-93:alior-74] kwoty: 36.9/2024-09-07 ? -36.9/2024-09-07 -> 56%\u001b[0m\n",
      "[taxxo-94:alior-464] kwoty: 300.0/2024-03-29 ? -300.0/2024-03-29 -> 100%\n",
      "\u001b[1m\u001b[49m\u001b[33m[taxxo-98:alior-500] kwoty: 14,183.13/2024-03-16 ? -14,183.13/2024-03-16 -> 71%\u001b[0m\n",
      "\u001b[2m\u001b[49m\u001b[33m[taxxo-102:alior-462] kwoty: 558.99/2024-03-29 ? -558.99/2024-03-29 -> 50%\u001b[0m\n",
      "\u001b[1m\u001b[49m\u001b[33m[taxxo-104:alior-495] kwoty: 184.5/2024-03-21 ? -184.5/2024-03-20 -> 68%\u001b[0m\n",
      "\u001b[1m\u001b[49m\u001b[33m[taxxo-106:alior-466] kwoty: 990.0/2024-03-29 ? -990.0/2024-03-29 -> 81%\u001b[0m\n",
      "\u001b[1m\u001b[49m\u001b[33m[taxxo-107:alior-467] kwoty: 1,980.0/2024-03-29 ? -1,980.0/2024-03-29 -> 65%\u001b[0m\n",
      "\u001b[1m\u001b[49m\u001b[33m[taxxo-111:alior-437] kwoty: 448.19/2024-04-11 ? -448.19/2024-04-11 -> 71%\u001b[0m\n",
      "[taxxo-117:alior-469] kwoty: 1,015.0/2024-03-29 ? -1,015.0/2024-03-29 -> 100%\n",
      "\u001b[1m\u001b[49m\u001b[33m[taxxo-118:alior-470] kwoty: 2,730.0/2024-03-29 ? -2,730.0/2024-03-29 -> 77%\u001b[0m\n",
      "[taxxo-120:alior-438] kwoty: 685.11/2024-04-11 ? -685.11/2024-04-11 -> 100%\n",
      "[taxxo-129:alior-373] kwoty: 300.0/2024-05-10 ? -300.0/2024-05-10 -> 90%\n",
      "[taxxo-130:alior-432] kwoty: 602.7/2024-04-17 ? -602.7/2024-04-17 -> 100%\n",
      "[taxxo-131:alior-444] kwoty: 457.56/2024-04-08 ? -457.56/2024-04-08 -> 100%\n",
      "\u001b[2m\u001b[49m\u001b[33m[taxxo-135:alior-74] kwoty: 36.9/2024-09-07 ? -36.9/2024-09-07 -> 60%\u001b[0m\n",
      "\u001b[1m\u001b[49m\u001b[33m[taxxo-138:alior-452] kwoty: 14,183.13/2024-04-04 ? -14,183.13/2024-04-04 -> 71%\u001b[0m\n",
      "\u001b[2m\u001b[49m\u001b[33m[taxxo-142:alior-445] kwoty: 613.77/2024-04-08 ? -613.77/2024-04-08 -> 53%\u001b[0m\n",
      "[taxxo-143:alior-396] kwoty: 322.75/2024-04-29 ? -322.75/2024-04-29 -> 100%\n",
      "[taxxo-147:alior-429] kwoty: 200.0/2024-04-22 ? -200.0/2024-04-22 -> 100%\n",
      "\u001b[1m\u001b[49m\u001b[33m[taxxo-148:alior-425] kwoty: 800.0/2024-04-25 ? -800.0/2024-04-25 -> 78%\u001b[0m\n",
      "\u001b[1m\u001b[49m\u001b[33m[taxxo-151:alior-166] kwoty: 300.0/2024-08-07 ? -300.0/2024-08-07 -> 76%\u001b[0m\n",
      "\u001b[1m\u001b[49m\u001b[33m[taxxo-154:alior-399] kwoty: 870.0/2024-04-29 ? -870.0/2024-04-29 -> 81%\u001b[0m\n",
      "\u001b[1m\u001b[49m\u001b[33m[taxxo-155:alior-400] kwoty: 1,890.0/2024-04-29 ? -1,890.0/2024-04-29 -> 65%\u001b[0m\n",
      "[taxxo-156:alior-360] kwoty: 457.56/2024-05-22 ? -457.56/2024-05-22 -> 96%\n",
      "[taxxo-160:alior-395] kwoty: 2,300.0/2024-04-29 ? -2,300.0/2024-04-29 -> 100%\n",
      "\u001b[1m\u001b[49m\u001b[33m[taxxo-162:alior-405] kwoty: 3,500.0/2024-04-29 ? -3,500.0/2024-04-29 -> 77%\u001b[0m\n",
      "\u001b[1m\u001b[49m\u001b[33m[taxxo-163:alior-404] kwoty: 1,400.0/2024-04-29 ? -1,400.0/2024-04-29 -> 71%\u001b[0m\n",
      "\u001b[2m\u001b[49m\u001b[33m[taxxo-164:alior-258] kwoty: 400.0/2024-06-28 ? -400.0/2024-06-28 -> 42%\u001b[0m\n",
      "[taxxo-165:alior-310] kwoty: 1,494.3/2024-05-31 ? -1,494.3/2024-05-31 -> 100%\n",
      "[taxxo-166:alior-371] kwoty: 602.7/2024-05-11 ? -602.7/2024-05-11 -> 100%\n",
      "[taxxo-167:alior-374] kwoty: 600.0/2024-05-10 ? -600.0/2024-05-10 -> 90%\n",
      "[taxxo-168:alior-388] kwoty: 180.86/2024-04-30 ? -180.86/2024-04-30 -> 100%\n",
      "\u001b[2m\u001b[49m\u001b[33m[taxxo-169:alior-403] kwoty: 70.0/2024-04-29 ? -70.0/2024-04-29 -> 48%\u001b[0m\n",
      "\u001b[1m\u001b[49m\u001b[33m[taxxo-170:alior-401] kwoty: 1,120.0/2024-04-29 ? -1,120.0/2024-04-29 -> 75%\u001b[0m\n",
      "\u001b[2m\u001b[49m\u001b[33m[taxxo-171:alior-402] kwoty: 2,323.85/2024-04-29 ? -2,323.85/2024-04-29 -> 52%\u001b[0m\n",
      "[taxxo-172:alior-375] kwoty: 207.87/2024-05-10 ? -207.87/2024-05-10 -> 90%\n",
      "\u001b[2m\u001b[49m\u001b[33m[taxxo-174:alior-74] kwoty: 36.9/2024-09-07 ? -36.9/2024-09-07 -> 56%\u001b[0m\n",
      "\u001b[1m\u001b[49m\u001b[33m[taxxo-176:alior-312] kwoty: 14,183.13/2024-05-31 ? -14,183.13/2024-05-31 -> 71%\u001b[0m\n",
      "\u001b[2m\u001b[49m\u001b[33m[taxxo-181:alior-372] kwoty: 738.0/2024-05-10 ? -738.0/2024-05-10 -> 53%\u001b[0m\n",
      "[taxxo-187:alior-162] kwoty: 476.95/2024-08-08 ? -476.95/2024-08-08 -> 100%\n",
      "\u001b[1m\u001b[49m\u001b[33m[taxxo-200:alior-315] kwoty: 2,100.0/2024-05-31 ? -2,100.0/2024-05-31 -> 65%\u001b[0m\n",
      "\u001b[1m\u001b[49m\u001b[33m[taxxo-201:alior-313] kwoty: 840.0/2024-05-31 ? -840.0/2024-05-31 -> 81%\u001b[0m\n",
      "[taxxo-203:alior-307] kwoty: 559.65/2024-05-31 ? -559.65/2024-05-31 -> 100%\n",
      "\u001b[2m\u001b[49m\u001b[33m[taxxo-204:alior-170] kwoty: 150.0/2024-08-07 ? -150.0/2024-08-07 -> 51%\u001b[0m\n",
      "[taxxo-205:alior-311] kwoty: 2,300.0/2024-05-31 ? -2,300.0/2024-05-31 -> 100%\n",
      "\u001b[1m\u001b[49m\u001b[33m[taxxo-206:alior-328] kwoty: 200.0/2024-05-31 ? -200.0/2024-05-31 -> 73%\u001b[0m\n",
      "\u001b[1m\u001b[49m\u001b[33m[taxxo-207:alior-319] kwoty: 1,365.0/2024-05-31 ? -1,365.0/2024-05-31 -> 71%\u001b[0m\n",
      "\u001b[1m\u001b[49m\u001b[33m[taxxo-208:alior-320] kwoty: 2,450.0/2024-05-31 ? -2,450.0/2024-05-31 -> 77%\u001b[0m\n",
      "[taxxo-210:alior-309] kwoty: 501.73/2024-05-31 ? -501.73/2024-05-31 -> 100%\n",
      "[taxxo-211:alior-306] kwoty: 549.81/2024-05-31 ? -549.81/2024-05-31 -> 100%\n",
      "[taxxo-213:alior-256] kwoty: 298.77/2024-06-28 ? -298.77/2024-06-28 -> 100%\n",
      "[taxxo-214:alior-232] kwoty: 664.08/2024-07-21 ? -664.08/2024-07-21 -> 100%\n",
      "\u001b[2m\u001b[49m\u001b[33m[taxxo-215:alior-190] kwoty: 602.7/2024-07-31 ? -602.7/2024-07-31 -> 52%\u001b[0m\n",
      "\u001b[1m\u001b[49m\u001b[33m[taxxo-216:alior-288] kwoty: 713.4/2024-06-10 ? -713.4/2024-06-10 -> 80%\u001b[0m\n",
      "[taxxo-217:alior-269] kwoty: 300.0/2024-06-28 ? -300.0/2024-06-28 -> 96%\n",
      "[taxxo-218:alior-166] kwoty: 300.0/2024-08-07 ? -300.0/2024-08-07 -> 100%\n",
      "\u001b[1m\u001b[49m\u001b[33m[taxxo-220:alior-323] kwoty: 1,400.0/2024-05-31 ? -1,400.0/2024-05-31 -> 75%\u001b[0m\n",
      "\u001b[2m\u001b[49m\u001b[33m[taxxo-221:alior-324] kwoty: 2,940.0/2024-05-31 ? -2,940.0/2024-05-31 -> 52%\u001b[0m\n",
      "\u001b[1m\u001b[49m\u001b[33m[taxxo-224:alior-238] kwoty: 207.87/2024-07-17 ? -207.87/2024-07-17 -> 84%\u001b[0m\n",
      "\u001b[2m\u001b[49m\u001b[33m[taxxo-225:alior-495] kwoty: 184.5/2024-03-20 ? -184.5/2024-03-20 -> 58%\u001b[0m\n",
      "\u001b[2m\u001b[49m\u001b[33m[taxxo-227:alior-297] kwoty: 274.77/2024-06-03 ? -274.77/2024-06-03 -> 60%\u001b[0m\n",
      "\u001b[2m\u001b[49m\u001b[33m[taxxo-230:alior-74] kwoty: 36.9/2024-09-07 ? -36.9/2024-09-07 -> 56%\u001b[0m\n",
      "\u001b[1m\u001b[49m\u001b[33m[taxxo-234:alior-293] kwoty: 14,183.13/2024-06-04 ? -14,183.13/2024-06-04 -> 71%\u001b[0m\n",
      "\u001b[1m\u001b[49m\u001b[33m[taxxo-239:alior-166] kwoty: 300.0/2024-08-07 ? -300.0/2024-08-07 -> 76%\u001b[0m\n",
      "\u001b[1m\u001b[49m\u001b[33m[taxxo-241:alior-275] kwoty: 1,020.0/2024-06-28 ? -1,020.0/2024-06-28 -> 75%\u001b[0m\n",
      "[taxxo-242:alior-265] kwoty: 457.56/2024-06-28 ? -457.56/2024-06-28 -> 92%\n",
      "[taxxo-244:alior-273] kwoty: 256.51/2024-06-28 ? -256.51/2024-06-28 -> 90%\n",
      "[taxxo-245:alior-189] kwoty: 559.65/2024-07-31 ? -559.65/2024-07-31 -> 100%\n",
      "[taxxo-246:alior-255] kwoty: 2,625.0/2024-06-30 ? -2,625.0/2024-06-30 -> 100%\n",
      "\u001b[1m\u001b[49m\u001b[33m[taxxo-247:alior-254] kwoty: 700.0/2024-06-30 ? -700.0/2024-06-30 -> 71%\u001b[0m\n",
      "\u001b[2m\u001b[49m\u001b[33m[taxxo-248:alior-272] kwoty: 2,380.0/2024-06-28 ? -2,380.0/2024-06-28 -> 52%\u001b[0m\n",
      "\u001b[1m\u001b[49m\u001b[33m[taxxo-249:alior-271] kwoty: 1,260.0/2024-06-28 ? -1,260.0/2024-06-28 -> 70%\u001b[0m\n",
      "[taxxo-250:alior-246] kwoty: 602.8/2024-07-04 ? -602.8/2024-07-04 -> 100%\n",
      "\u001b[1m\u001b[49m\u001b[33m[taxxo-251:alior-252] kwoty: 1,057.8/2024-06-30 ? -1,057.8/2024-06-30 -> 80%\u001b[0m\n",
      "[taxxo-252:alior-253] kwoty: 2,300.0/2024-06-30 ? -2,300.0/2024-06-30 -> 100%\n",
      "[taxxo-253:alior-247] kwoty: 300.0/2024-07-04 ? -300.0/2024-07-04 -> 100%\n",
      "\u001b[2m\u001b[49m\u001b[33m[taxxo-255:alior-190] kwoty: 602.7/2024-07-31 ? -602.7/2024-07-31 -> 43%\u001b[0m\n",
      "[taxxo-256:alior-238] kwoty: 207.87/2024-07-17 ? -207.87/2024-07-17 -> 90%\n",
      "\u001b[2m\u001b[49m\u001b[33m[taxxo-258:alior-74] kwoty: 36.9/2024-09-07 ? -36.9/2024-09-07 -> 60%\u001b[0m\n",
      "\u001b[1m\u001b[49m\u001b[33m[taxxo-260:alior-248] kwoty: 14,183.13/2024-07-04 ? -14,183.13/2024-07-04 -> 71%\u001b[0m\n",
      "\u001b[1m\u001b[49m\u001b[33m[taxxo-261:alior-243] kwoty: 60.27/2024-07-05 ? -60.27/2024-07-05 -> 68%\u001b[0m\n",
      "\u001b[2m\u001b[49m\u001b[33m[taxxo-262:alior-241] kwoty: 550.0/2024-07-15 ? -550.0/2024-07-15 -> 59%\u001b[0m\n",
      "\u001b[2m\u001b[49m\u001b[33m[taxxo-263:alior-240] kwoty: 246.0/2024-07-17 ? -246.0/2024-07-17 -> 44%\u001b[0m\n",
      "[taxxo-265:alior-225] kwoty: 517.97/2024-07-29 ? -517.97/2024-07-29 -> 92%\n",
      "[taxxo-269:alior-160] kwoty: 1,280.17/2024-08-12 ? -1,280.17/2024-08-12 -> 100%\n",
      "\u001b[1m\u001b[49m\u001b[33m[taxxo-272:alior-200] kwoty: 1,710.0/2024-07-30 ? -1,710.0/2024-07-30 -> 75%\u001b[0m\n",
      "\u001b[2m\u001b[49m\u001b[33m[taxxo-273:alior-219] kwoty: 3,900.0/2024-07-30 ? -3,900.0/2024-07-30 -> 58%\u001b[0m\n",
      "\u001b[2m\u001b[49m\u001b[33m[taxxo-274:alior-184] kwoty: 210.0/2024-07-31 ? -210.0/2024-07-31 -> 58%\u001b[0m\n",
      "\u001b[1m\u001b[49m\u001b[33m[taxxo-275:alior-166] kwoty: 300.0/2024-08-07 ? -300.0/2024-08-07 -> 67%\u001b[0m\n",
      "[taxxo-276:alior-192] kwoty: 457.56/2024-07-31 ? -457.56/2024-07-31 -> 92%\n",
      "[taxxo-279:alior-188] kwoty: 571.95/2024-07-31 ? -571.95/2024-07-31 -> 97%\n",
      "\u001b[1m\u001b[49m\u001b[33m[taxxo-280:alior-220] kwoty: 2,300.0/2024-07-30 ? -2,300.0/2024-07-30 -> 83%\u001b[0m\n",
      "\u001b[1m\u001b[49m\u001b[33m[taxxo-283:alior-197] kwoty: 630.0/2024-07-30 ? -630.0/2024-07-30 -> 71%\u001b[0m\n",
      "\u001b[1m\u001b[49m\u001b[33m[taxxo-285:alior-221] kwoty: 4,856.6/2024-07-30 ? -4,856.6/2024-07-30 -> 83%\u001b[0m\n",
      "[taxxo-286:alior-198] kwoty: 2,100.0/2024-07-30 ? -2,100.0/2024-07-30 -> 100%\n",
      "[taxxo-287:alior-70] kwoty: 1,030.48/2024-09-09 ? -1,030.48/2024-09-09 -> 90%\n",
      "[taxxo-288:alior-183] kwoty: 170.11/2024-07-31 ? -170.11/2024-07-31 -> 100%\n",
      "\u001b[1m\u001b[49m\u001b[33m[taxxo-290:alior-159] kwoty: 602.7/2024-08-13 ? -602.7/2024-08-13 -> 80%\u001b[0m\n",
      "\u001b[1m\u001b[49m\u001b[33m[taxxo-291:alior-185] kwoty: 1,505.0/2024-07-31 ? -1,505.0/2024-07-31 -> 70%\u001b[0m\n",
      "\u001b[2m\u001b[49m\u001b[33m[taxxo-292:alior-186] kwoty: 2,730.0/2024-07-31 ? -2,730.0/2024-07-31 -> 52%\u001b[0m\n",
      "\u001b[2m\u001b[49m\u001b[33m[taxxo-293:alior-74] kwoty: 36.9/2024-09-07 ? -36.9/2024-09-07 -> 56%\u001b[0m\n",
      "[taxxo-296:alior-164] kwoty: 207.87/2024-08-08 ? -207.87/2024-08-08 -> 90%\n",
      "\u001b[1m\u001b[49m\u001b[33m[taxxo-298:alior-167] kwoty: 14,183.13/2024-08-07 ? -14,183.13/2024-08-07 -> 71%\u001b[0m\n",
      "[taxxo-299:alior-146] kwoty: 4,797.0/2024-08-23 ? -4,797.0/2024-08-23 -> 87%\n",
      "\u001b[1m\u001b[49m\u001b[33m[taxxo-301:alior-179] kwoty: 1,608.05/2024-08-05 ? -1,608.05/2024-08-05 -> 67%\u001b[0m\n",
      "\u001b[2m\u001b[49m\u001b[33m[taxxo-302:alior-199] kwoty: 1,088.55/2024-07-30 ? -1,088.55/2024-07-30 -> 61%\u001b[0m\n",
      "\u001b[1m\u001b[49m\u001b[33m[taxxo-305:alior-165] kwoty: 60.27/2024-08-07 ? -60.27/2024-08-07 -> 68%\u001b[0m\n",
      "\u001b[1m\u001b[49m\u001b[33m[taxxo-313:alior-150] kwoty: 450.0/2024-08-21 ? -450.0/2024-08-21 -> 69%\u001b[0m\n",
      "[taxxo-314:alior-144] kwoty: 510.0/2024-08-28 ? -510.0/2024-08-28 -> 96%\n",
      "[taxxo-315:alior-11] kwoty: 300.0/2024-09-30 ? -300.0/2024-09-30 -> 100%\n",
      "\u001b[2m\u001b[49m\u001b[33m[taxxo-316:alior-148] kwoty: 4,360.0/2024-08-22 ? -4,360.0/2024-08-22 -> 50%\u001b[0m\n",
      "\u001b[2m\u001b[49m\u001b[33m[taxxo-317:alior-139] kwoty: 2,310.0/2024-08-29 ? -2,310.0/2024-08-29 -> 58%\u001b[0m\n",
      "\u001b[1m\u001b[49m\u001b[33m[taxxo-319:alior-138] kwoty: 990.0/2024-08-29 ? -990.0/2024-08-29 -> 75%\u001b[0m\n",
      "[taxxo-320:alior-65] kwoty: 180.0/2024-09-09 ? -180.0/2024-09-09 -> 100%\n",
      "[taxxo-321:alior-101] kwoty: 559.65/2024-08-30 ? -559.65/2024-08-30 -> 100%\n",
      "\u001b[1m\u001b[49m\u001b[33m[taxxo-322:alior-145] kwoty: 1,113.15/2024-08-27 ? -1,113.15/2024-08-27 -> 77%\u001b[0m\n",
      "\u001b[1m\u001b[49m\u001b[33m[taxxo-324:alior-143] kwoty: 6,300.0/2024-08-28 ? -6,300.0/2024-08-28 -> 70%\u001b[0m\n",
      "\u001b[1m\u001b[49m\u001b[33m[taxxo-325:alior-68] kwoty: 2,590.0/2024-09-09 ? -2,590.0/2024-09-09 -> 71%\u001b[0m\n",
      "[taxxo-326:alior-66] kwoty: 1,120.0/2024-09-09 ? -1,120.0/2024-09-09 -> 100%\n",
      "[taxxo-327:alior-102] kwoty: 283.66/2024-08-30 ? -283.66/2024-08-30 -> 91%\n",
      "[taxxo-330:alior-22] kwoty: 802.38/2024-09-29 ? -802.38/2024-09-29 -> 100%\n",
      "\u001b[1m\u001b[49m\u001b[33m[taxxo-332:alior-132] kwoty: 1,365.0/2024-08-29 ? -1,365.0/2024-08-29 -> 70%\u001b[0m\n",
      "\u001b[2m\u001b[49m\u001b[33m[taxxo-333:alior-133] kwoty: 2,275.0/2024-08-29 ? -2,275.0/2024-08-29 -> 52%\u001b[0m\n",
      "\u001b[2m\u001b[49m\u001b[33m[taxxo-334:alior-107] kwoty: 140.0/2024-08-30 ? -140.0/2024-08-30 -> 44%\u001b[0m\n",
      "[taxxo-337:alior-123] kwoty: 532.43/2024-08-30 ? -532.43/2024-08-30 -> 100%\n",
      "[taxxo-338:alior-124] kwoty: 187.7/2024-08-30 ? -187.7/2024-08-30 -> 90%\n",
      "\u001b[1m\u001b[49m\u001b[33m[taxxo-340:alior-69] kwoty: 602.7/2024-09-09 ? -602.7/2024-09-09 -> 80%\u001b[0m\n",
      "[taxxo-341:alior-61] kwoty: 578.1/2024-09-14 ? -578.1/2024-09-14 -> 100%\n",
      "[taxxo-342:alior-82] kwoty: 457.56/2024-09-07 ? -457.56/2024-09-07 -> 100%\n",
      "[taxxo-344:alior-81] kwoty: 207.87/2024-09-07 ? -207.87/2024-09-07 -> 90%\n",
      "\u001b[1m\u001b[49m\u001b[33m[taxxo-345:alior-96] kwoty: 14,183.13/2024-09-02 ? -14,183.13/2024-09-02 -> 71%\u001b[0m\n",
      "\u001b[2m\u001b[49m\u001b[33m[taxxo-346:alior-74] kwoty: 36.9/2024-09-07 ? -36.9/2024-09-07 -> 56%\u001b[0m\n",
      "[taxxo-348:alior-20] kwoty: 335.85/2024-09-29 ? -335.85/2024-09-29 -> 100%\n",
      "\u001b[2m\u001b[49m\u001b[33m[taxxo-350:alior-72] kwoty: 2,078.0/2024-09-09 ? -2,078.0/2024-09-09 -> 47%\u001b[0m\n",
      "\u001b[1m\u001b[49m\u001b[33m[taxxo-354:alior-19] kwoty: 367.98/2024-09-29 ? -367.98/2024-09-29 -> 68%\u001b[0m\n",
      "[taxxo-355:alior-21] kwoty: 467.9/2024-09-29 ? -467.9/2024-09-29 -> 100%\n",
      "[taxxo-356:alior-60] kwoty: 701.1/2024-09-14 ? -701.1/2024-09-14 -> 100%\n",
      "\u001b[1m\u001b[49m\u001b[33m[taxxo-358:alior-11] kwoty: 300.0/2024-09-30 ? -300.0/2024-09-30 -> 82%\u001b[0m\n",
      "\u001b[2m\u001b[49m\u001b[33m[taxxo-361:alior-26] kwoty: 1,740.0/2024-09-29 ? -1,740.0/2024-09-29 -> 58%\u001b[0m\n",
      "[taxxo-364:alior-30] kwoty: 242.05/2024-09-29 ? -242.05/2024-09-29 -> 90%\n",
      "\u001b[1m\u001b[49m\u001b[33m[taxxo-366:alior-27] kwoty: 1,120.0/2024-09-29 ? -1,120.0/2024-09-29 -> 70%\u001b[0m\n",
      "\u001b[2m\u001b[49m\u001b[33m[taxxo-367:alior-28] kwoty: 2,120.0/2024-09-29 ? -2,120.0/2024-09-29 -> 52%\u001b[0m\n",
      "\u001b[2m\u001b[49m\u001b[33m[taxxo-368:alior-31] kwoty: 80.0/2024-09-29 ? -80.0/2024-09-29 -> 52%\u001b[0m\n",
      "\u001b[2m\u001b[49m\u001b[33m[taxxo-369:alior-29] kwoty: 160.0/2024-09-29 ? -160.0/2024-09-29 -> 52%\u001b[0m\n",
      "\u001b[1m\u001b[49m\u001b[33m[taxxo-370:alior-17] kwoty: 3,185.0/2024-09-29 ? -3,185.0/2024-09-30 -> 67%\u001b[0m\n",
      "[taxxo-371:alior-16] kwoty: 1,225.0/2024-09-29 ? -1,225.0/2024-09-30 -> 96%\n",
      "[taxxo-372:alior-2] kwoty: 457.56/2024-10-04 ? -457.56/2024-10-04 -> 100%\n",
      "[taxxo-373:alior-14] kwoty: 496.93/2024-09-30 ? -496.93/2024-09-30 -> 100%\n",
      "\u001b[1m\u001b[49m\u001b[33m[taxxo-374:alior-15] kwoty: 2,500.0/2024-09-30 ? -2,500.0/2024-09-30 -> 83%\u001b[0m\n",
      "\u001b[1m\u001b[49m\u001b[33m[taxxo-376:alior-8] kwoty: 14,183.13/2024-10-03 ? -14,183.13/2024-10-03 -> 71%\u001b[0m\n",
      "[taxxo-377:alior-1] kwoty: 36.9/2024-10-04 ? -36.9/2024-10-04 -> 100%\n",
      "[taxxo-378:alior-6] kwoty: 207.87/2024-10-03 ? -207.87/2024-10-03 -> 100%\n"
     ]
    }
   ],
   "source": [
    "# rules to accept mapping, otherwise reject\n",
    "whitelist_rules = [\n",
    "    { 'min_similarity': 0.85, 'max_diff_kwota': 1,   'max_diff_days': 3 },\n",
    "    { 'min_similarity': 0.65, 'max_diff_kwota': 0.5, 'max_diff_days': 3 },\n",
    "    { 'min_similarity': 0.40, 'max_diff_kwota': 0,   'max_diff_days': 1 },\n",
    "]\n",
    "\n",
    "# here we will make changes\n",
    "taxxo_verified = []\n",
    "\n",
    "# iterate over taxxo entries\n",
    "for r in df_taxxo.iter_rows(named=True):\n",
    "    found = False\n",
    "    taxxo_date = r['data_zaplaty']\n",
    "    taxxo_kwota = r['kwota']\n",
    "    taxxo_opis = r['opis_taxxo']\n",
    "    taxxo_index = r['Lp']\n",
    "\n",
    "    \n",
    "    # find matching alior entries\n",
    "    # for x in df_alior.filter(col('data_transakcji')==taxxo_date).iter_rows(named=True):\n",
    "    for x in df_alior.iter_rows(named=True):\n",
    "        alior_date = x['data_transakcji']\n",
    "        alior_kwota = x['kwota']\n",
    "        alior_opis = x['opis']\n",
    "        alior_index = x['Lp']\n",
    "\n",
    "        # match conditions\n",
    "        try:\n",
    "            # compute similarity\n",
    "            similarity_opis = fuzz.ratio(taxxo_opis, alior_opis)\n",
    "    \n",
    "            # value differences\n",
    "            diff_kwota = abs(taxxo_kwota + alior_kwota)\n",
    "            diff_days = abs((taxxo_date - alior_date).days)\n",
    "\n",
    "            # evaluate rules\n",
    "            rule_match, rule_id = is_whitelisted(\n",
    "                similarity=similarity_opis/100, \n",
    "                diff_kwota=diff_kwota, \n",
    "                diff_days=diff_days, \n",
    "                whitelist_rules=whitelist_rules,\n",
    "                return_rule_id=True\n",
    "            )\n",
    "            \n",
    "            # add mapping if rule found\n",
    "            if rule_match:\n",
    "                \n",
    "                # print message\n",
    "                msg = f'[taxxo-{taxxo_index}:alior-{alior_index}] kwoty: {taxxo_kwota:,}/{taxxo_date} ? {alior_kwota:,}/{alior_date} -> {similarity_opis}%'\n",
    "                if diff_kwota > 0: msg += colored_string(f' (±{diff_kwota:.1f} PLN)', color='red')\n",
    "                \n",
    "                if rule_id == 0:\n",
    "                    print(msg)\n",
    "                elif rule_id == 1:\n",
    "                    colored_print(msg, color='yellow', style='bright')\n",
    "                elif rule_id == 2:\n",
    "                    colored_print(msg, color='yellow', style='dim')\n",
    "    \n",
    "                # add to verified list\n",
    "                taxxo_verified.append({\n",
    "                    'Lp': taxxo_index,\n",
    "                    'verification_found': True,\n",
    "                    'verification_indeks_alior': alior_index,\n",
    "                    'verification_opis': similarity_opis/100,\n",
    "                    'verification_kwota_difference': abs(taxxo_kwota + alior_kwota),\n",
    "                    'verification_date_difference': abs((taxxo_date - alior_date).days),\n",
    "                    'verification_rule_id': rule_id,\n",
    "                })\n",
    "    \n",
    "                # stop\n",
    "                break\n",
    "        except Exception as e:\n",
    "            pass\n",
    "\n",
    "df_taxxo_verified = pl.DataFrame(taxxo_verified)"
   ]
  },
  {
   "cell_type": "code",
   "execution_count": 24,
   "id": "132cfa54-5108-43c1-8c1f-5c8fe9c65bcf",
   "metadata": {
    "execution": {
     "iopub.execute_input": "2024-10-06T16:30:55.362034Z",
     "iopub.status.busy": "2024-10-06T16:30:55.361628Z",
     "iopub.status.idle": "2024-10-06T16:30:55.375491Z",
     "shell.execute_reply": "2024-10-06T16:30:55.373540Z",
     "shell.execute_reply.started": "2024-10-06T16:30:55.361999Z"
    }
   },
   "outputs": [
    {
     "data": {
      "text/html": [
       "<div><style>\n",
       ".dataframe > thead > tr,\n",
       ".dataframe > tbody > tr {\n",
       "  text-align: right;\n",
       "  white-space: pre-wrap;\n",
       "}\n",
       "</style>\n",
       "<small>shape: (178, 6)</small><table border=\"1\" class=\"dataframe\"><thead><tr><th>Lp</th><th>verification_found</th><th>verification_indeks_alior</th><th>verification_opis</th><th>verification_kwota_difference</th><th>verification_date_difference</th></tr><tr><td>i64</td><td>bool</td><td>i64</td><td>f64</td><td>f64</td><td>i64</td></tr></thead><tbody><tr><td>11</td><td>true</td><td>561</td><td>1.0</td><td>0.0</td><td>0</td></tr><tr><td>14</td><td>true</td><td>570</td><td>1.0</td><td>0.0</td><td>0</td></tr><tr><td>35</td><td>true</td><td>568</td><td>0.74</td><td>0.0</td><td>0</td></tr><tr><td>36</td><td>true</td><td>547</td><td>0.62</td><td>0.0</td><td>0</td></tr><tr><td>40</td><td>true</td><td>557</td><td>0.9</td><td>0.0</td><td>0</td></tr><tr><td>&hellip;</td><td>&hellip;</td><td>&hellip;</td><td>&hellip;</td><td>&hellip;</td><td>&hellip;</td></tr><tr><td>373</td><td>true</td><td>14</td><td>1.0</td><td>0.0</td><td>0</td></tr><tr><td>374</td><td>true</td><td>15</td><td>0.83</td><td>0.0</td><td>0</td></tr><tr><td>376</td><td>true</td><td>8</td><td>0.71</td><td>0.0</td><td>0</td></tr><tr><td>377</td><td>true</td><td>1</td><td>1.0</td><td>0.0</td><td>0</td></tr><tr><td>378</td><td>true</td><td>6</td><td>1.0</td><td>0.0</td><td>0</td></tr></tbody></table></div>"
      ],
      "text/plain": [
       "shape: (178, 6)\n",
       "┌─────┬──────────────────┬──────────────────┬──────────────────┬─────────────────┬─────────────────┐\n",
       "│ Lp  ┆ verification_fou ┆ verification_ind ┆ verification_opi ┆ verification_kw ┆ verification_da │\n",
       "│ --- ┆ nd               ┆ eks_alior        ┆ s                ┆ ota_difference  ┆ te_difference   │\n",
       "│ i64 ┆ ---              ┆ ---              ┆ ---              ┆ ---             ┆ ---             │\n",
       "│     ┆ bool             ┆ i64              ┆ f64              ┆ f64             ┆ i64             │\n",
       "╞═════╪══════════════════╪══════════════════╪══════════════════╪═════════════════╪═════════════════╡\n",
       "│ 11  ┆ true             ┆ 561              ┆ 1.0              ┆ 0.0             ┆ 0               │\n",
       "│ 14  ┆ true             ┆ 570              ┆ 1.0              ┆ 0.0             ┆ 0               │\n",
       "│ 35  ┆ true             ┆ 568              ┆ 0.74             ┆ 0.0             ┆ 0               │\n",
       "│ 36  ┆ true             ┆ 547              ┆ 0.62             ┆ 0.0             ┆ 0               │\n",
       "│ 40  ┆ true             ┆ 557              ┆ 0.9              ┆ 0.0             ┆ 0               │\n",
       "│ …   ┆ …                ┆ …                ┆ …                ┆ …               ┆ …               │\n",
       "│ 373 ┆ true             ┆ 14               ┆ 1.0              ┆ 0.0             ┆ 0               │\n",
       "│ 374 ┆ true             ┆ 15               ┆ 0.83             ┆ 0.0             ┆ 0               │\n",
       "│ 376 ┆ true             ┆ 8                ┆ 0.71             ┆ 0.0             ┆ 0               │\n",
       "│ 377 ┆ true             ┆ 1                ┆ 1.0              ┆ 0.0             ┆ 0               │\n",
       "│ 378 ┆ true             ┆ 6                ┆ 1.0              ┆ 0.0             ┆ 0               │\n",
       "└─────┴──────────────────┴──────────────────┴──────────────────┴─────────────────┴─────────────────┘"
      ]
     },
     "execution_count": 24,
     "metadata": {},
     "output_type": "execute_result"
    }
   ],
   "source": [
    "# merge\n",
    "df_taxxo_verified"
   ]
  },
  {
   "cell_type": "code",
   "execution_count": 25,
   "id": "5677dd9f-98f6-4119-91e8-1d64da5a5b4a",
   "metadata": {
    "execution": {
     "iopub.execute_input": "2024-10-06T16:31:15.144914Z",
     "iopub.status.busy": "2024-10-06T16:31:15.140281Z",
     "iopub.status.idle": "2024-10-06T16:31:15.503397Z",
     "shell.execute_reply": "2024-10-06T16:31:15.501746Z",
     "shell.execute_reply.started": "2024-10-06T16:31:15.144843Z"
    }
   },
   "outputs": [
    {
     "data": {
      "text/plain": [
       "<xlsxwriter.workbook.Workbook at 0x7f7c504e4e10>"
      ]
     },
     "execution_count": 25,
     "metadata": {},
     "output_type": "execute_result"
    }
   ],
   "source": [
    "df_taxxo_joined = df_taxxo.join(other=df_taxxo_verified, on='Lp', how='left')\n",
    "df_taxxo_joined.write_excel('20241005_TAXXO_verified.xlsx')"
   ]
  }
 ],
 "metadata": {
  "kernelspec": {
   "display_name": "Python [conda env:base] *",
   "language": "python",
   "name": "conda-base-py"
  },
  "language_info": {
   "codemirror_mode": {
    "name": "ipython",
    "version": 3
   },
   "file_extension": ".py",
   "mimetype": "text/x-python",
   "name": "python",
   "nbconvert_exporter": "python",
   "pygments_lexer": "ipython3",
   "version": "3.11.10"
  },
  "widgets": {
   "application/vnd.jupyter.widget-state+json": {
    "state": {},
    "version_major": 2,
    "version_minor": 0
   }
  }
 },
 "nbformat": 4,
 "nbformat_minor": 5
}
